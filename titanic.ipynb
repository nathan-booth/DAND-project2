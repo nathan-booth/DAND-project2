{
 "cells": [
  {
   "cell_type": "markdown",
   "metadata": {},
   "source": [
    "Given this [titanic](https://en.wikipedia.org/wiki/RMS_Titanic) [dataset](https://www.kaggle.com/c/titanic/data), the unifying theme is the factors that influenced survival among the passengers, directly or indirectly. I'm not ready to build a model to make predictions so we'll keep the questions descriptive.\n",
    "\n",
    "\n",
    "## Questions\n",
    "* What is the distribution of the passenger classes? Were there more third class passengers packed into the bowels of the ship?\n",
    "* I would presume that third class passengers are likely to be emigres with families. Do third class passengers have more family members aboard?\n",
    "* How are the embarkation ports ([Cherbourg](https://en.wikipedia.org/wiki/Cherbourg-Octeville), [Queenstown](https://en.wikipedia.org/wiki/Cobh), [Southamption](https://en.wikipedia.org/wiki/Southampton)) spread among the passenger classes? Before looking at this data, I didn't know that some of the passengers are French. My idiosyncratic set of biases suggests that more passengers from the French port are in first or second class.\n",
    "\n",
    "Let's get a first look at the data by importing into a DataFrame."
   ]
  },
  {
   "cell_type": "code",
   "execution_count": 1,
   "metadata": {
    "collapsed": false
   },
   "outputs": [
    {
     "data": {
      "text/html": [
       "<div>\n",
       "<table border=\"1\" class=\"dataframe\">\n",
       "  <thead>\n",
       "    <tr style=\"text-align: right;\">\n",
       "      <th></th>\n",
       "      <th>PassengerId</th>\n",
       "      <th>Survived</th>\n",
       "      <th>Pclass</th>\n",
       "      <th>Name</th>\n",
       "      <th>Sex</th>\n",
       "      <th>Age</th>\n",
       "      <th>SibSp</th>\n",
       "      <th>Parch</th>\n",
       "      <th>Ticket</th>\n",
       "      <th>Fare</th>\n",
       "      <th>Cabin</th>\n",
       "      <th>Embarked</th>\n",
       "    </tr>\n",
       "  </thead>\n",
       "  <tbody>\n",
       "    <tr>\n",
       "      <th>0</th>\n",
       "      <td>1</td>\n",
       "      <td>0</td>\n",
       "      <td>3</td>\n",
       "      <td>Braund, Mr. Owen Harris</td>\n",
       "      <td>male</td>\n",
       "      <td>22</td>\n",
       "      <td>1</td>\n",
       "      <td>0</td>\n",
       "      <td>A/5 21171</td>\n",
       "      <td>7.2500</td>\n",
       "      <td>NaN</td>\n",
       "      <td>S</td>\n",
       "    </tr>\n",
       "    <tr>\n",
       "      <th>1</th>\n",
       "      <td>2</td>\n",
       "      <td>1</td>\n",
       "      <td>1</td>\n",
       "      <td>Cumings, Mrs. John Bradley (Florence Briggs Th...</td>\n",
       "      <td>female</td>\n",
       "      <td>38</td>\n",
       "      <td>1</td>\n",
       "      <td>0</td>\n",
       "      <td>PC 17599</td>\n",
       "      <td>71.2833</td>\n",
       "      <td>C85</td>\n",
       "      <td>C</td>\n",
       "    </tr>\n",
       "    <tr>\n",
       "      <th>2</th>\n",
       "      <td>3</td>\n",
       "      <td>1</td>\n",
       "      <td>3</td>\n",
       "      <td>Heikkinen, Miss. Laina</td>\n",
       "      <td>female</td>\n",
       "      <td>26</td>\n",
       "      <td>0</td>\n",
       "      <td>0</td>\n",
       "      <td>STON/O2. 3101282</td>\n",
       "      <td>7.9250</td>\n",
       "      <td>NaN</td>\n",
       "      <td>S</td>\n",
       "    </tr>\n",
       "    <tr>\n",
       "      <th>3</th>\n",
       "      <td>4</td>\n",
       "      <td>1</td>\n",
       "      <td>1</td>\n",
       "      <td>Futrelle, Mrs. Jacques Heath (Lily May Peel)</td>\n",
       "      <td>female</td>\n",
       "      <td>35</td>\n",
       "      <td>1</td>\n",
       "      <td>0</td>\n",
       "      <td>113803</td>\n",
       "      <td>53.1000</td>\n",
       "      <td>C123</td>\n",
       "      <td>S</td>\n",
       "    </tr>\n",
       "    <tr>\n",
       "      <th>4</th>\n",
       "      <td>5</td>\n",
       "      <td>0</td>\n",
       "      <td>3</td>\n",
       "      <td>Allen, Mr. William Henry</td>\n",
       "      <td>male</td>\n",
       "      <td>35</td>\n",
       "      <td>0</td>\n",
       "      <td>0</td>\n",
       "      <td>373450</td>\n",
       "      <td>8.0500</td>\n",
       "      <td>NaN</td>\n",
       "      <td>S</td>\n",
       "    </tr>\n",
       "  </tbody>\n",
       "</table>\n",
       "</div>"
      ],
      "text/plain": [
       "   PassengerId  Survived  Pclass  \\\n",
       "0            1         0       3   \n",
       "1            2         1       1   \n",
       "2            3         1       3   \n",
       "3            4         1       1   \n",
       "4            5         0       3   \n",
       "\n",
       "                                                Name     Sex  Age  SibSp  \\\n",
       "0                            Braund, Mr. Owen Harris    male   22      1   \n",
       "1  Cumings, Mrs. John Bradley (Florence Briggs Th...  female   38      1   \n",
       "2                             Heikkinen, Miss. Laina  female   26      0   \n",
       "3       Futrelle, Mrs. Jacques Heath (Lily May Peel)  female   35      1   \n",
       "4                           Allen, Mr. William Henry    male   35      0   \n",
       "\n",
       "   Parch            Ticket     Fare Cabin Embarked  \n",
       "0      0         A/5 21171   7.2500   NaN        S  \n",
       "1      0          PC 17599  71.2833   C85        C  \n",
       "2      0  STON/O2. 3101282   7.9250   NaN        S  \n",
       "3      0            113803  53.1000  C123        S  \n",
       "4      0            373450   8.0500   NaN        S  "
      ]
     },
     "execution_count": 1,
     "metadata": {},
     "output_type": "execute_result"
    }
   ],
   "source": [
    "import numpy as np\n",
    "import pandas as pd\n",
    "\n",
    "titanic_df = pd.read_csv('C:\\\\Users\\\\Nathan\\\\Dropbox\\\\study\\\\udacity\\\\DAND\\\\project2\\\\titanic_data.csv')\n",
    "titanic_df.head()"
   ]
  },
  {
   "cell_type": "markdown",
   "metadata": {},
   "source": [
    "Let's get some first looks at [frequency tables](http://pandas.pydata.org/pandas-docs/version/0.17.0/generated/pandas.Series.value_counts.html) and [histograms](http://matplotlib.org/1.4.1/api/pyplot_api.html#matplotlib.pyplot.hist) for passenger class, gender, and age in case something demographically strange is happening. I'll store their columns in variables since I'll reuse them. I found [this discussion](https://discussions.udacity.com/t/histogram-add-labels-remove-axis-ticks-titles/44004/14) helpful for creating my histograms."
   ]
  },
  {
   "cell_type": "code",
   "execution_count": 2,
   "metadata": {
    "collapsed": false
   },
   "outputs": [
    {
     "data": {
      "text/plain": [
       "0    3\n",
       "1    1\n",
       "2    3\n",
       "3    1\n",
       "4    3\n",
       "Name: Pclass, dtype: int64"
      ]
     },
     "execution_count": 2,
     "metadata": {},
     "output_type": "execute_result"
    }
   ],
   "source": [
    "passenger_class = titanic_df['Pclass']\n",
    "passenger_sex = titanic_df['Sex']\n",
    "passenger_age = titanic_df['Age']\n",
    "passenger_class.head()"
   ]
  },
  {
   "cell_type": "code",
   "execution_count": 68,
   "metadata": {
    "collapsed": false
   },
   "outputs": [
    {
     "name": "stdout",
     "output_type": "stream",
     "text": [
      "3    491\n",
      "1    216\n",
      "2    184\n",
      "Name: Pclass, dtype: int64\n"
     ]
    },
    {
     "data": {
      "image/png": "[encoded data removed]",
      "text/plain": [
       "<matplotlib.figure.Figure at 0x22534438>"
      ]
     },
     "metadata": {},
     "output_type": "display_data"
    }
   ],
   "source": [
    "import matplotlib.pyplot as plt\n",
    "import seaborn as sns\n",
    "\n",
    "% matplotlib inline\n",
    "\n",
    "print passenger_class.value_counts()\n",
    "\n",
    "plt.hist(passenger_class, bins=3)\n",
    "plt.xlabel('Passengers by Class')\n",
    "plt.ylabel('Frequency')\n",
    "plt.title('Distribution of Passengers by Class')\n",
    "plt.show()"
   ]
  },
  {
   "cell_type": "markdown",
   "metadata": {},
   "source": [
    "Lo and behold, this shows that the number of third class passengers more than doubled those of first or second class. This obviously doesn't serve as direct evidence that third class passengers were packed like sardines, or even uncomfortably, but it is suggestive."
   ]
  },
  {
   "cell_type": "code",
   "execution_count": 69,
   "metadata": {
    "collapsed": false
   },
   "outputs": [
    {
     "name": "stdout",
     "output_type": "stream",
     "text": [
      "male      577\n",
      "female    314\n",
      "Name: Sex, dtype: int64\n"
     ]
    },
    {
     "data": {
      "image/png": "[encoded data removed]",
      "text/plain": [
       "<matplotlib.figure.Figure at 0x22aaa2e8>"
      ]
     },
     "metadata": {},
     "output_type": "display_data"
    }
   ],
   "source": [
    "print passenger_sex.value_counts()\n",
    "\n",
    "plt.hist(passenger_class, bins=2)\n",
    "plt.xlabel('Passengers by Sex')\n",
    "plt.ylabel('Frequency')\n",
    "plt.title('Distribution of Passengers by Sex')\n",
    "plt.show()"
   ]
  },
  {
   "cell_type": "markdown",
   "metadata": {},
   "source": [
    "Now here I have a discrepency between my counts of males and females and what my histogram shows. My histogram is showing more males and fewer females than it should.\n",
    "\n",
    "My intuition reports that young males are more likely to immigrate, especially if they don't have a spouse or children.\n",
    "\n",
    "Let's take a look at the ages of the passengers. This data has a couple issues:\n",
    "1. NaN values\n",
    "2. Decimal values for some ages\n",
    "\n",
    "So let's clean up the column before describing the data."
   ]
  },
  {
   "cell_type": "code",
   "execution_count": 49,
   "metadata": {
    "collapsed": false
   },
   "outputs": [
    {
     "name": "stdout",
     "output_type": "stream",
     "text": [
      "Number of passengers: 891\n",
      "Number of passengers with known ages: 714\n",
      "Number of passengers with unknown ages: 177\n"
     ]
    }
   ],
   "source": [
    "print \"Number of passengers: \" + str(len(passenger_age))\n",
    "passenger_age_without_na = passenger_age.dropna()\n",
    "print \"Number of passengers with known ages: \" + str(len(passenger_age_without_na))\n",
    "print \"Number of passengers with unknown ages: \" + str(len(passenger_age) - len(passenger_age_without_na))"
   ]
  },
  {
   "cell_type": "markdown",
   "metadata": {},
   "source": [
    "I identified a range of the column that had some decimal values by viewing the spreadsheet."
   ]
  },
  {
   "cell_type": "code",
   "execution_count": 46,
   "metadata": {
    "collapsed": false,
    "scrolled": true
   },
   "outputs": [
    {
     "name": "stdout",
     "output_type": "stream",
     "text": [
      "149    42.0\n",
      "150    51.0\n",
      "151    22.0\n",
      "152    55.5\n",
      "153    40.5\n",
      "155    51.0\n",
      "156    16.0\n",
      "157    30.0\n",
      "160    44.0\n",
      "161    40.0\n",
      "Name: Age, dtype: float64\n",
      "\n",
      "149    42\n",
      "150    51\n",
      "151    22\n",
      "152    56\n",
      "153    40\n",
      "155    51\n",
      "156    16\n",
      "157    30\n",
      "160    44\n",
      "161    40\n",
      "Name: Age, dtype: float64\n"
     ]
    }
   ],
   "source": [
    "print passenger_age_without_na[120:130]\n",
    "print\n",
    "passenger_age_without_na_and_rounded = passenger_age_without_na.round()\n",
    "print passenger_age_without_na_and_rounded[120:130]"
   ]
  },
  {
   "cell_type": "markdown",
   "metadata": {},
   "source": [
    "Now that the column is cleaned up using [dropna](http://pandas.pydata.org/pandas-docs/version/0.17.1/generated/pandas.Series.dropna.html) and [round](http://pandas.pydata.org/pandas-docs/stable/generated/pandas.DataFrame.round.html), it's time to take a descriptive view. Since this data is numerical, a [boxplot](http://matplotlib.org/examples/pylab_examples/boxplot_demo.html) may be illuminating."
   ]
  },
  {
   "cell_type": "code",
   "execution_count": 57,
   "metadata": {
    "collapsed": false
   },
   "outputs": [
    {
     "data": {
      "text/plain": [
       "count    714.000000\n",
       "mean      29.693277\n",
       "std       14.524527\n",
       "min        0.000000\n",
       "25%       20.000000\n",
       "50%       28.000000\n",
       "75%       38.000000\n",
       "max       80.000000\n",
       "Name: Age, dtype: float64"
      ]
     },
     "execution_count": 57,
     "metadata": {},
     "output_type": "execute_result"
    }
   ],
   "source": [
    "passenger_age_without_na_and_rounded.describe()"
   ]
  },
  {
   "cell_type": "code",
   "execution_count": 62,
   "metadata": {
    "collapsed": false
   },
   "outputs": [
    {
     "data": {
      "image/png": "[encoded data removed]",
      "text/plain": [
       "<matplotlib.figure.Figure at 0x2175cc50>"
      ]
     },
     "metadata": {},
     "output_type": "display_data"
    }
   ],
   "source": [
    "plt.boxplot(passenger_age_without_na_and_rounded, 0, 'rs', 0)\n",
    "plt.show()"
   ]
  },
  {
   "cell_type": "code",
   "execution_count": 70,
   "metadata": {
    "collapsed": false
   },
   "outputs": [
    {
     "data": {
      "image/png": "[encoded data removed]",
      "text/plain": [
       "<matplotlib.figure.Figure at 0x22b1e0f0>"
      ]
     },
     "metadata": {},
     "output_type": "display_data"
    }
   ],
   "source": [
    "plt.hist(passenger_age_without_na_and_rounded, bins=20)\n",
    "plt.xlabel('Passengers by Age')\n",
    "plt.ylabel('Frequency')\n",
    "plt.title('Distribution of Passengers by Age')\n",
    "plt.show()"
   ]
  },
  {
   "cell_type": "markdown",
   "metadata": {},
   "source": [
    "The passengers' ages skew toward young adults (that is, [positive](http://www.cvgs.k12.va.us/digstats/main/descriptv/d_skewd.html)), but we have some older outliers."
   ]
  },
  {
   "cell_type": "code",
   "execution_count": null,
   "metadata": {
    "collapsed": true
   },
   "outputs": [],
   "source": []
  }
 ],
 "metadata": {
  "kernelspec": {
   "display_name": "Python 2",
   "language": "python",
   "name": "python2"
  },
  "language_info": {
   "codemirror_mode": {
    "name": "ipython",
    "version": 2
   },
   "file_extension": ".py",
   "mimetype": "text/x-python",
   "name": "python",
   "nbconvert_exporter": "python",
   "pygments_lexer": "ipython2",
   "version": "2.7.11"
  }
 },
 "nbformat": 4,
 "nbformat_minor": 0
}
